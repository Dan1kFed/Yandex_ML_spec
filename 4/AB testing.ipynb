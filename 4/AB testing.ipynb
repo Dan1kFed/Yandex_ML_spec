{
 "cells": [
  {
   "cell_type": "code",
   "execution_count": 1,
   "metadata": {},
   "outputs": [
    {
     "data": {
      "text/html": [
       "<div>\n",
       "<style scoped>\n",
       "    .dataframe tbody tr th:only-of-type {\n",
       "        vertical-align: middle;\n",
       "    }\n",
       "\n",
       "    .dataframe tbody tr th {\n",
       "        vertical-align: top;\n",
       "    }\n",
       "\n",
       "    .dataframe thead th {\n",
       "        text-align: right;\n",
       "    }\n",
       "</style>\n",
       "<table border=\"1\" class=\"dataframe\">\n",
       "  <thead>\n",
       "    <tr style=\"text-align: right;\">\n",
       "      <th></th>\n",
       "      <th>userID</th>\n",
       "      <th>browser</th>\n",
       "      <th>slot</th>\n",
       "      <th>n_clicks</th>\n",
       "      <th>n_queries</th>\n",
       "      <th>n_nonclk_queries</th>\n",
       "    </tr>\n",
       "  </thead>\n",
       "  <tbody>\n",
       "    <tr>\n",
       "      <th>0</th>\n",
       "      <td>1</td>\n",
       "      <td>Browser #2</td>\n",
       "      <td>exp</td>\n",
       "      <td>23</td>\n",
       "      <td>32</td>\n",
       "      <td>19</td>\n",
       "    </tr>\n",
       "    <tr>\n",
       "      <th>1</th>\n",
       "      <td>3</td>\n",
       "      <td>Browser #4</td>\n",
       "      <td>exp</td>\n",
       "      <td>3</td>\n",
       "      <td>4</td>\n",
       "      <td>2</td>\n",
       "    </tr>\n",
       "    <tr>\n",
       "      <th>2</th>\n",
       "      <td>5</td>\n",
       "      <td>Browser #4</td>\n",
       "      <td>exp</td>\n",
       "      <td>29</td>\n",
       "      <td>35</td>\n",
       "      <td>16</td>\n",
       "    </tr>\n",
       "    <tr>\n",
       "      <th>3</th>\n",
       "      <td>6</td>\n",
       "      <td>Browser #4</td>\n",
       "      <td>control</td>\n",
       "      <td>12</td>\n",
       "      <td>6</td>\n",
       "      <td>0</td>\n",
       "    </tr>\n",
       "    <tr>\n",
       "      <th>4</th>\n",
       "      <td>7</td>\n",
       "      <td>Browser #4</td>\n",
       "      <td>exp</td>\n",
       "      <td>54</td>\n",
       "      <td>68</td>\n",
       "      <td>30</td>\n",
       "    </tr>\n",
       "  </tbody>\n",
       "</table>\n",
       "</div>"
      ],
      "text/plain": [
       "   userID     browser     slot  n_clicks  n_queries  n_nonclk_queries\n",
       "0       1  Browser #2      exp        23         32                19\n",
       "1       3  Browser #4      exp         3          4                 2\n",
       "2       5  Browser #4      exp        29         35                16\n",
       "3       6  Browser #4  control        12          6                 0\n",
       "4       7  Browser #4      exp        54         68                30"
      ]
     },
     "execution_count": 1,
     "metadata": {},
     "output_type": "execute_result"
    }
   ],
   "source": [
    "import pandas as pd\n",
    "import numpy as np\n",
    "\n",
    "frame = pd.read_csv(\"ab_browser_test.csv\", sep=\",\", header=0)\n",
    "frame.head()"
   ]
  },
  {
   "cell_type": "code",
   "execution_count": 2,
   "metadata": {},
   "outputs": [
    {
     "name": "stdout",
     "output_type": "stream",
     "text": [
      "Exp clicks count difference percent: 1.614\n"
     ]
    }
   ],
   "source": [
    "exp_clicks_count = frame[frame[\"slot\"]==\"exp\"][\"n_clicks\"].sum()\n",
    "control_clicks_count = frame[frame[\"slot\"]==\"control\"][\"n_clicks\"].sum()\n",
    "print \"Exp clicks count difference percent: %.3f\" % np.round(float(exp_clicks_count)*100./float(control_clicks_count)-100, 3)"
   ]
  },
  {
   "cell_type": "code",
   "execution_count": 3,
   "metadata": {},
   "outputs": [
    {
     "name": "stdout",
     "output_type": "stream",
     "text": [
      "95% Confidence interval for exp means: [11.507893;11.658866]\n",
      "95% Confidence interval for control means: [11.206687;11.353475]\n",
      "95% Confidence interval for exp medians: [5.000000;5.000000]\n",
      "95% Confidence interval for control medians: [4.000000;4.000000]\n",
      "95% Confidence interval for difference between means: [0.199603;0.404967]\n",
      "95% Confidence interval for difference between medians: [1.000000;1.000000]\n"
     ]
    }
   ],
   "source": [
    "def get_bootstrap_samples(data, n_samples):\n",
    "    data_length = len(data)\n",
    "    indices = np.random.randint(0, data_length, (n_samples, data_length))\n",
    "    return data[indices]\n",
    "\n",
    "def stat_intervals(stat, alpha):\n",
    "    boundaries = np.percentile(stat, [100 * alpha / 2., 100 * (1 - alpha / 2.)])\n",
    "    return boundaries\n",
    "#%%\n",
    "np.random.seed(0)\n",
    "n_boot_samples = 500\n",
    "exp_clicks = get_bootstrap_samples(frame[frame[\"slot\"]==\"exp\"][\"n_clicks\"].values, n_boot_samples)\n",
    "control_clicks = get_bootstrap_samples(frame[frame[\"slot\"]==\"control\"][\"n_clicks\"].values, n_boot_samples)\n",
    "\n",
    "exp_clicks_means = map(np.mean, exp_clicks)\n",
    "exp_clicks_medians = map(np.median, exp_clicks)\n",
    "\n",
    "control_clicks_means = map(np.mean, control_clicks)\n",
    "control_clicks_medians = map(np.median, control_clicks)\n",
    "\n",
    "exp_means_interval = stat_intervals(exp_clicks_means, 0.05)\n",
    "exp_medians_interval = stat_intervals(exp_clicks_medians, 0.05)\n",
    "\n",
    "control_means_interval = stat_intervals(control_clicks_means, 0.05)\n",
    "control_medians_interval = stat_intervals(control_clicks_medians, 0.05)\n",
    "\n",
    "interval_means_diff = stat_intervals(map(lambda(x,y): x-y, zip(exp_clicks_means,control_clicks_means)), 0.05)\n",
    "interval_medians_diff = stat_intervals(map(lambda(x,y): x-y, zip(exp_clicks_medians,control_clicks_medians)), 0.05)\n",
    "\n",
    "print \"95%% Confidence interval for exp means: [%f;%f]\" % tuple(exp_means_interval)\n",
    "print \"95%% Confidence interval for control means: [%f;%f]\" % tuple(control_means_interval)\n",
    "print \"95%% Confidence interval for exp medians: [%f;%f]\" % tuple(exp_medians_interval)\n",
    "print \"95%% Confidence interval for control medians: [%f;%f]\" % tuple(control_medians_interval)\n",
    "print \"95%% Confidence interval for difference between means: [%f;%f]\" % tuple(interval_means_diff)\n",
    "print \"95%% Confidence interval for difference between medians: [%f;%f]\" % tuple(interval_medians_diff)\n"
   ]
  },
  {
   "cell_type": "code",
   "execution_count": 4,
   "metadata": {},
   "outputs": [
    {
     "name": "stdout",
     "output_type": "stream",
     "text": [
      "Populating the interactive namespace from numpy and matplotlib\n"
     ]
    },
    {
     "data": {
      "image/png": "[encoded data removed]",
      "text/plain": [
       "<Figure size 432x288 with 1 Axes>"
      ]
     },
     "metadata": {
      "needs_background": "light"
     },
     "output_type": "display_data"
    }
   ],
   "source": [
    "from scipy import stats\n",
    "%pylab inline\n",
    "sample_0 = control_clicks[0]\n",
    "expected_frequences_s0 = [len(sample_0)*stats.norm.pdf(x) for x in range(min(sample_0), max(sample_0) + 1)]\n",
    "pylab.xlim(0, 50)\n",
    "pylab.bar(range(len(np.bincount(sample_0))), np.bincount(sample_0), color = 'b', label = 'sample0_stat')\n",
    "pylab.bar(range(len(expected_frequences_s0)), expected_frequences_s0, color = 'r', label = 'norm_distr')\n",
    "pylab.legend()\n",
    "\n",
    "from scipy import stats\n",
    "def calc_chisquare_stats(sample):\n",
    "    mean = np.mean(sample)\n",
    "    sample_size = len(sample)\n",
    "    expected_means = [mean for x in xrange(0, sample_size)]\n",
    "    stat = stats.chisquare(sample_size, expected_means, ddof=0, axis=0)\n",
    "    return (mean, stat.statistic, stat.pvalue)\n",
    "control_clicks_chi = map(calc_chisquare_stats, control_clicks)\n",
    "\n",
    "mean_plot = stats.probplot(map(lambda (m,s,p): m, control_clicks_chi), dist = \"norm\", plot = pylab)\n",
    "\n",
    "stat_plot = stats.probplot(map(lambda (m,s,p): s, control_clicks_chi), dist = \"chi2\", sparams=(n_boot_samples-1), plot = pylab)"
   ]
  },
  {
   "cell_type": "code",
   "execution_count": 5,
   "metadata": {},
   "outputs": [
    {
     "name": "stdout",
     "output_type": "stream",
     "text": [
      "Mean R^2: 0.999176\n",
      "Chi square R^2: 0.998489\n"
     ]
    }
   ],
   "source": [
    "print \"Mean R^2: %f\" % mean_plot[1][2]\n",
    "print \"Chi square R^2: %f\" % stat_plot[1][2]"
   ]
  },
  {
   "cell_type": "code",
   "execution_count": 6,
   "metadata": {},
   "outputs": [
    {
     "name": "stdout",
     "output_type": "stream",
     "text": [
      "Mann-Whitney criterion pvalue result: 0.0000\n"
     ]
    },
    {
     "data": {
      "text/plain": [
       "MannwhitneyuResult(statistic=38901259929.0, pvalue=8.694294377520879e-75)"
      ]
     },
     "execution_count": 6,
     "metadata": {},
     "output_type": "execute_result"
    }
   ],
   "source": [
    "exp_data = frame[frame[\"slot\"]==\"exp\"]\n",
    "control_data = frame[frame[\"slot\"]==\"control\"]\n",
    "\n",
    "exp_user_clicks = exp_data.groupby(\"userID\").agg(\"sum\")[\"n_clicks\"]\n",
    "control_user_clicks = control_data.groupby(\"userID\").agg(\"sum\")[\"n_clicks\"]\n",
    "\n",
    "mann_whitney_stat = stats.mannwhitneyu(control_user_clicks, exp_user_clicks, alternative=\"two-sided\")\n",
    "print \"Mann-Whitney criterion pvalue result: %.4f\" % np.round(mann_whitney_stat.pvalue, 4)\n",
    "mann_whitney_stat"
   ]
  },
  {
   "cell_type": "code",
   "execution_count": 7,
   "metadata": {},
   "outputs": [
    {
     "name": "stdout",
     "output_type": "stream",
     "text": [
      "Browser #2 is statistically valuable: False\n",
      "Browser #4 is statistically valuable: False\n",
      "Browser #22 is statistically valuable: False\n",
      "Browser #20 is statistically valuable: False\n",
      "Browser #17 is statistically valuable: False\n",
      "Browser #14 is statistically valuable: True\n",
      "Count of not rejected hypothesis: 5\n"
     ]
    }
   ],
   "source": [
    "from statsmodels.sandbox.stats.multicomp import multipletests\n",
    "exp_browser_names = set(exp_data[\"browser\"])\n",
    "exp_browser_data = {}\n",
    "for browser_name in exp_browser_names:\n",
    "    exp_browser_data[browser_name] = exp_data[exp_data[\"browser\"]==browser_name]\n",
    "control_browser_names = set(control_data[\"browser\"])\n",
    "control_browser_data = {}\n",
    "for browser_name in control_browser_names:\n",
    "    control_browser_data[browser_name] = control_data[control_data[\"browser\"]==browser_name]\n",
    "all_browser_names = exp_browser_names.union(control_browser_names)\n",
    "mann_whitney_pvalues = []\n",
    "for browser_name in all_browser_names:\n",
    "    exp_b_user_clicks = exp_browser_data[browser_name][\"n_clicks\"].values\n",
    "    control_b_user_clicks = control_browser_data[browser_name][\"n_clicks\"].values\n",
    "    mann_whitney_stat = stats.mannwhitneyu(control_b_user_clicks, exp_b_user_clicks, alternative=\"two-sided\")\n",
    "    mann_whitney_pvalues.append(mann_whitney_stat.pvalue)\n",
    "mann_whitney_pvalues_corrected = multipletests(mann_whitney_pvalues, alpha = 0.05, method = 'holm')\n",
    "for b in zip(all_browser_names, mann_whitney_pvalues_corrected[0]):\n",
    "    print \"%s is statistically valuable: %r\" % b\n",
    "print \"Count of not rejected hypothesis: %i\" % len(filter(lambda x: not(x), mann_whitney_pvalues_corrected[0]))"
   ]
  },
  {
   "cell_type": "code",
   "execution_count": 8,
   "metadata": {},
   "outputs": [
    {
     "name": "stdout",
     "output_type": "stream",
     "text": [
      "Browser #2 no click queries percentage: exp=44.982747\tcontrol=45.962747\tdiff=0.980000\n",
      "Browser #4 no click queries percentage: exp=45.142942\tcontrol=46.970930\tdiff=1.827988\n",
      "Browser #22 no click queries percentage: exp=39.853947\tcontrol=40.593977\tdiff=0.740029\n",
      "Browser #20 no click queries percentage: exp=38.977376\tcontrol=40.540485\tdiff=1.563108\n",
      "Browser #17 no click queries percentage: exp=36.937413\tcontrol=36.299367\tdiff=-0.638046\n",
      "Browser #14 no click queries percentage: exp=43.755617\tcontrol=57.590411\tdiff=13.834794\n"
     ]
    }
   ],
   "source": [
    "for browser_name in all_browser_names:\n",
    "    exp_no_click_count = float(exp_browser_data[browser_name][\"n_nonclk_queries\"].sum())\n",
    "    exp_queries_count = float(exp_browser_data[browser_name][\"n_queries\"].sum())\n",
    "    control_no_click_count = float(control_browser_data[browser_name][\"n_nonclk_queries\"].sum())\n",
    "    control_queries_count = float(control_browser_data[browser_name][\"n_queries\"].sum())\n",
    "    exp_percent = exp_no_click_count/exp_queries_count*100\n",
    "    control_percent = control_no_click_count/control_queries_count*100\n",
    "    print \"%s no click queries percentage: exp=%f\\tcontrol=%f\\tdiff=%f\" % (browser_name, exp_percent, control_percent, (control_percent-exp_percent))"
   ]
  },
  {
   "cell_type": "code",
   "execution_count": null,
   "metadata": {},
   "outputs": [],
   "source": []
  }
 ],
 "metadata": {
  "kernelspec": {
   "display_name": "Python 2",
   "language": "python",
   "name": "python2"
  },
  "language_info": {
   "codemirror_mode": {
    "name": "ipython",
    "version": 2
   },
   "file_extension": ".py",
   "mimetype": "text/x-python",
   "name": "python",
   "nbconvert_exporter": "python",
   "pygments_lexer": "ipython2",
   "version": "2.7.16"
  }
 },
 "nbformat": 4,
 "nbformat_minor": 2
}
