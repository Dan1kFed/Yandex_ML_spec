{
 "cells": [
  {
   "cell_type": "code",
   "execution_count": 1,
   "metadata": {},
   "outputs": [],
   "source": [
    "import numpy as np\n",
    "import matplotlib.pyplot as plt\n",
    "plt.style.use('ggplot')\n",
    "\n",
    "%matplotlib inline"
   ]
  },
  {
   "cell_type": "code",
   "execution_count": 2,
   "metadata": {},
   "outputs": [],
   "source": [
    "from sklearn.datasets import load_breast_cancer\n",
    "\n",
    "breast_cancer = load_breast_cancer()\n",
    "X, y = breast_cancer.data, breast_cancer.target"
   ]
  },
  {
   "cell_type": "code",
   "execution_count": 3,
   "metadata": {},
   "outputs": [
    {
     "name": "stdout",
     "output_type": "stream",
     "text": [
      "0.6274204028589994\n"
     ]
    }
   ],
   "source": [
    "from sklearn.model_selection import cross_val_score\n",
    "from sklearn.naive_bayes import BernoulliNB, MultinomialNB, GaussianNB\n",
    "\n",
    "\n",
    "def write_answer_1(score):\n",
    "    with open(\"answer1.txt\", \"w\") as file_obj:\n",
    "        file_obj.write(str(score))\n",
    "        \n",
    "breast_cancer_scores = []\n",
    "\n",
    "clf = BernoulliNB()\n",
    "clf.fit(X, y)\n",
    "\n",
    "score = np.mean(cross_val_score(clf, X, y, n_jobs=-1))\n",
    "breast_cancer_scores.append(score)\n",
    "print score"
   ]
  },
  {
   "cell_type": "code",
   "execution_count": 4,
   "metadata": {},
   "outputs": [
    {
     "name": "stdout",
     "output_type": "stream",
     "text": [
      "0.8945790401930752\n"
     ]
    }
   ],
   "source": [
    "clf = MultinomialNB()\n",
    "clf.fit(X, y)\n",
    "\n",
    "score = np.mean(cross_val_score(clf, X, y, n_jobs=-1))\n",
    "breast_cancer_scores.append(score)\n",
    "print score"
   ]
  },
  {
   "cell_type": "code",
   "execution_count": 5,
   "metadata": {},
   "outputs": [
    {
     "name": "stdout",
     "output_type": "stream",
     "text": [
      "0.9367492806089297\n"
     ]
    }
   ],
   "source": [
    "clf = GaussianNB()\n",
    "clf.fit(X, y)\n",
    "\n",
    "score = np.mean(cross_val_score(clf, X, y, n_jobs=-1))\n",
    "breast_cancer_scores.append(score)\n",
    "print score"
   ]
  },
  {
   "cell_type": "code",
   "execution_count": 6,
   "metadata": {},
   "outputs": [],
   "source": [
    "from sklearn.datasets import load_digits\n",
    "\n",
    "digits = load_digits()\n",
    "X, y = digits.data, digits.target"
   ]
  },
  {
   "cell_type": "code",
   "execution_count": 7,
   "metadata": {},
   "outputs": [
    {
     "name": "stdout",
     "output_type": "stream",
     "text": [
      "0.8258236507780582\n"
     ]
    }
   ],
   "source": [
    "from sklearn.model_selection import cross_val_score\n",
    "from sklearn.naive_bayes import BernoulliNB, MultinomialNB, GaussianNB\n",
    "\n",
    "\n",
    "def write_answer_2(score):\n",
    "    with open(\"answer2.txt\", \"w\") as file_obj:\n",
    "        file_obj.write(str(score))\n",
    "        \n",
    "digits_scores = []\n",
    "\n",
    "clf = BernoulliNB()\n",
    "clf.fit(X, y)\n",
    "\n",
    "score = np.mean(cross_val_score(clf, X, y, n_jobs=-1))\n",
    "digits_scores.append(score)\n",
    "print score"
   ]
  },
  {
   "cell_type": "code",
   "execution_count": 8,
   "metadata": {},
   "outputs": [
    {
     "name": "stdout",
     "output_type": "stream",
     "text": [
      "0.8708771489735053\n"
     ]
    }
   ],
   "source": [
    "clf = MultinomialNB()\n",
    "clf.fit(X, y)\n",
    "\n",
    "score = np.mean(cross_val_score(clf, X, y, n_jobs=-1))\n",
    "digits_scores.append(score)\n",
    "print score"
   ]
  },
  {
   "cell_type": "code",
   "execution_count": 9,
   "metadata": {},
   "outputs": [
    {
     "name": "stdout",
     "output_type": "stream",
     "text": [
      "0.8186003803550138\n"
     ]
    }
   ],
   "source": [
    "clf = GaussianNB()\n",
    "clf.fit(X, y)\n",
    "\n",
    "score = np.mean(cross_val_score(clf, X, y, n_jobs=-1))\n",
    "digits_scores.append(score)\n",
    "print score"
   ]
  },
  {
   "cell_type": "code",
   "execution_count": 10,
   "metadata": {},
   "outputs": [],
   "source": [
    "def write_answer_3(answers):\n",
    "    with open(\"answer3.txt\", \"w\") as file_obj:\n",
    "        file_obj.write(\" \".join([str(num) for num in answers]))\n",
    "\n",
    "        \n",
    "write_answer_1(max(breast_cancer_scores))\n",
    "write_answer_2(max(digits_scores))        \n",
    "answers = [3, 4]\n",
    "write_answer_3(answers)"
   ]
  },
  {
   "cell_type": "code",
   "execution_count": null,
   "metadata": {},
   "outputs": [],
   "source": []
  }
 ],
 "metadata": {
  "kernelspec": {
   "display_name": "Python 2",
   "language": "python",
   "name": "python2"
  },
  "language_info": {
   "codemirror_mode": {
    "name": "ipython",
    "version": 2
   },
   "file_extension": ".py",
   "mimetype": "text/x-python",
   "name": "python",
   "nbconvert_exporter": "python",
   "pygments_lexer": "ipython2",
   "version": "2.7.15"
  }
 },
 "nbformat": 4,
 "nbformat_minor": 2
}
